{
 "cells": [
  {
   "cell_type": "markdown",
   "metadata": {},
   "source": [
    "<h5>Redis Cache</h5>\n",
    "<p> I am using Redis Container on my pc for caching. If we dont have redis container already available then run the following Command: </p>"
   ]
  },
  {
   "cell_type": "code",
   "execution_count": null,
   "metadata": {
    "vscode": {
     "languageId": "plaintext"
    }
   },
   "outputs": [],
   "source": [
    "docker run --name redis -d -p 6379:6379 redis redis-server --requirepass \"redispass\""
   ]
  },
  {
   "cell_type": "markdown",
   "metadata": {},
   "source": [
    "<p>Note: Redis Stores everything as key-value</p>\n",
    "<p>Whatever data we insert is stored as String </p>\n",
    "<p>To store structs , maps etc first we need to serialise the data and then we should Store</p>\n",
    "<p> And at the time of retrievel we need to deserialize the data to get back the format we want like json,struct,etc</p>"
   ]
  },
  {
   "cell_type": "markdown",
   "metadata": {},
   "source": [
    "<h4>MongoDB Transaction</h4>"
   ]
  },
  {
   "cell_type": "markdown",
   "metadata": {},
   "source": [
    "<p> If we want to perform multiple tasks in Db and we want if any one fails then we need to roll back then we use mongodb transaction </p>\n",
    "<p>I am using this in BookBike Controller</p>"
   ]
  },
  {
   "cell_type": "markdown",
   "metadata": {},
   "source": [
    "<a href=\"https://www.mongodb.com/developer/languages/go/golang-multi-document-acid-transactions/\">Refer Documentation here</a>"
   ]
  }
 ],
 "metadata": {
  "language_info": {
   "name": "python"
  },
  "orig_nbformat": 4
 },
 "nbformat": 4,
 "nbformat_minor": 2
}
